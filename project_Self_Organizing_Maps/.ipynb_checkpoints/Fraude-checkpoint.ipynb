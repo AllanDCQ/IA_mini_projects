{
 "cells": [
  {
   "cell_type": "markdown",
   "id": "71a4eaec",
   "metadata": {},
   "source": [
    "# SOM : carte autoadaptive : DÃ©tection de Fraude"
   ]
  },
  {
   "cell_type": "raw",
   "id": "2b2df722",
   "metadata": {},
   "source": [
    "Probabilité de fraude\n",
    "SOM + ANN pour faire de la prédiction"
   ]
  },
  {
   "cell_type": "markdown",
   "id": "346db4c3",
   "metadata": {},
   "source": [
    "## Partie 1"
   ]
  },
  {
   "cell_type": "code",
   "execution_count": null,
   "id": "39d561d2",
   "metadata": {},
   "outputs": [],
   "source": [
    "import numpy as np\n",
    "import matplotlib.pyplot as plt\n",
    "import pandas as pd"
   ]
  },
  {
   "cell_type": "code",
   "execution_count": null,
   "id": "77da5877",
   "metadata": {},
   "outputs": [],
   "source": [
    "# Importation des données\n",
    "dataset = pd.read_csv('Credit_Card_Applications.csv')\n",
    "X = dataset.iloc[:, :-1].values\n",
    "y = dataset.iloc[:, -1].values"
   ]
  },
  {
   "cell_type": "code",
   "execution_count": null,
   "id": "14e249a0",
   "metadata": {},
   "outputs": [],
   "source": [
    "# Changement d'échelle\n",
    "from sklearn.preprocessing import MinMaxScaler\n",
    "sc = MinMaxScaler()\n",
    "X = sc.fit_transform(X)"
   ]
  },
  {
   "cell_type": "code",
   "execution_count": null,
   "id": "3d6c2198",
   "metadata": {},
   "outputs": [],
   "source": [
    "# Entrainement SOM\n",
    "from minisom import MiniSom\n",
    "som = MiniSom(x = 10, y = 10, input_len = 15, sigma = 1.0, learning_rate = 0.5)  # tableau de 10x10 avec longeur de X = 15\n",
    "\n",
    "som.random_weights_init(X)   # Initisaliser aléatoirement les poids\n",
    "som.train_random(X, num_iteration = 100)"
   ]
  },
  {
   "cell_type": "markdown",
   "id": "3c7afc08",
   "metadata": {},
   "source": [
    "### Visualisation des résultats"
   ]
  },
  {
   "cell_type": "code",
   "execution_count": null,
   "id": "88b947cd",
   "metadata": {},
   "outputs": [],
   "source": [
    "# calcul du distance BMI\n",
    "    \n",
    "from pylab import bone, pcolor, colorbar, plot, show\n",
    "\n",
    "bone()  # Initialise un graph\n",
    "\n",
    "pcolor(som.distance_map().T)\n",
    "colorbar() # légende\n",
    "\n",
    "# Fraude = Blanc\n",
    "\n",
    "markers = [\"o\", \"s\"]\n",
    "colors = [\"r\", \"g\"]\n",
    "for i, x in enumerate(X):\n",
    "    w = som.winner(x)\n",
    "    plot(w[0] + 0.5,\n",
    "         w[1] + 0.5,\n",
    "         markers[y[i]],\n",
    "         markeredgecolor = colors[y[i]],\n",
    "         markerfacecolor = 'None',\n",
    "         markersize = 10,\n",
    "         markeredgewidth = 2)\n",
    "\n",
    "show()"
   ]
  },
  {
   "cell_type": "code",
   "execution_count": null,
   "id": "db9f1f10",
   "metadata": {},
   "outputs": [],
   "source": [
    "# Détecter la fraude \n",
    "mappings = som.win_map(X)\n",
    "frauds = np.concatenate((mappings[(5,8)], mappings[(3,7)]), axis = 0)  #axis = 0 par les lignes\n",
    "frauds = sc.inverse_transform(frauds)"
   ]
  },
  {
   "cell_type": "markdown",
   "id": "b54e2c42",
   "metadata": {},
   "source": [
    "## Partie 2"
   ]
  },
  {
   "cell_type": "code",
   "execution_count": null,
   "id": "cb272033",
   "metadata": {},
   "outputs": [],
   "source": [
    "# Créer la matrice de variables\n",
    "customers = dataset.iloc[:, 1: ].values"
   ]
  },
  {
   "cell_type": "code",
   "execution_count": null,
   "id": "c88493c7",
   "metadata": {},
   "outputs": [],
   "source": [
    "# Créer une variable dépendante\n",
    "is_fraud = np.zeros(len(dataset))"
   ]
  },
  {
   "cell_type": "code",
   "execution_count": null,
   "id": "47bb7502",
   "metadata": {},
   "outputs": [],
   "source": [
    "for i in range(len(dataset)) :\n",
    "    if dataset.iloc[i,0] in frauds :\n",
    "        is_fraud[i] = 1"
   ]
  },
  {
   "cell_type": "code",
   "execution_count": null,
   "id": "ec81414f",
   "metadata": {},
   "outputs": [],
   "source": [
    "from sklearn.preprocessing import StandardScaler\n",
    "sc = StandardScaler()"
   ]
  },
  {
   "cell_type": "code",
   "execution_count": null,
   "id": "dc5ac70c",
   "metadata": {},
   "outputs": [],
   "source": [
    "customers = sc.fit_transform(customers)"
   ]
  },
  {
   "cell_type": "code",
   "execution_count": null,
   "id": "6feb454c",
   "metadata": {},
   "outputs": [],
   "source": [
    "from keras.models import Sequential\n",
    "from keras.layers import Dense\n",
    "import tensorflow as tf\n",
    "\n",
    "classifier = Sequential()\n",
    "\n",
    "# Ajouter la couche d'entrée\n",
    "classifier.add(Dense(units=2, activation=\"relu\",kernel_initializer=\"uniform\", input_dim=15))\n",
    "\n",
    "# Ajouter la couche de sortie\n",
    "classifier.add(Dense(units=1, activation=\"sigmoid\", kernel_initializer=\"uniform\"))   #activation= softmax si plusieurs units en sortie\n"
   ]
  },
  {
   "cell_type": "code",
   "execution_count": null,
   "id": "26d2ea1a",
   "metadata": {},
   "outputs": [],
   "source": [
    "# Complier les neurones\n",
    "classifier.compile(loss= tf.keras.losses.BinaryCrossentropy(), \n",
    "                   optimizer= tf.keras.optimizers.Adam(), \n",
    "                   metrics= [tf.keras.metrics.Accuracy()])\n"
   ]
  },
  {
   "cell_type": "code",
   "execution_count": null,
   "id": "fd95bfb8",
   "metadata": {},
   "outputs": [],
   "source": [
    "# Entrainer le réseau de neuronnes\n",
    "classifier.fit(customers, is_fraud, batch_size=1, epochs=10) "
   ]
  },
  {
   "cell_type": "code",
   "execution_count": null,
   "id": "9e77fbda",
   "metadata": {},
   "outputs": [],
   "source": [
    "# Prédictions\n",
    "\n",
    "y_pred = classifier.predict(customers)\n",
    "\n",
    "y_pred = np.concatenate( (dataset.iloc[:, 0:1], y_pred), axis=1)  # 0:1 permet de créer un tableau a 2D avec seulement la premiere colonne pour réaliser la concat\n",
    "\n",
    "\n",
    "y_pred = y_pred[y_pred[:,1].argsort()]  # ordonner "
   ]
  }
 ],
 "metadata": {
  "kernelspec": {
   "display_name": "Python 3 (ipykernel)",
   "language": "python",
   "name": "python3"
  },
  "language_info": {
   "codemirror_mode": {
    "name": "ipython",
    "version": 3
   },
   "file_extension": ".py",
   "mimetype": "text/x-python",
   "name": "python",
   "nbconvert_exporter": "python",
   "pygments_lexer": "ipython3",
   "version": "3.9.13"
  }
 },
 "nbformat": 4,
 "nbformat_minor": 5
}
