{
 "cells": [
  {
   "cell_type": "markdown",
   "id": "407b4bc7",
   "metadata": {},
   "source": [
    "# SOM : carte autoadaptive : Détection de Fraude"
   ]
  },
  {
   "cell_type": "code",
   "execution_count": null,
   "id": "06bd294e",
   "metadata": {},
   "outputs": [],
   "source": [
    "import numpy as np\n",
    "import matplotlib.pyplot as plt\n",
    "import pandas as pd"
   ]
  },
  {
   "cell_type": "code",
   "execution_count": null,
   "id": "21128896",
   "metadata": {},
   "outputs": [],
   "source": [
    "# Importation des données\n",
    "dataset = pd.read_csv('Credit_Card_Applications.csv')\n",
    "X = dataset.iloc[:, :-1].values\n",
    "y = dataset.iloc[:, -1].values"
   ]
  },
  {
   "cell_type": "code",
   "execution_count": null,
   "id": "964840b8",
   "metadata": {},
   "outputs": [],
   "source": [
    "# Changement d'échelle\n",
    "from sklearn.preprocessing import MinMaxScaler\n",
    "sc = MinMaxScaler()\n",
    "X = sc.fit_transform(X)"
   ]
  },
  {
   "cell_type": "code",
   "execution_count": null,
   "id": "773a0ef1",
   "metadata": {},
   "outputs": [],
   "source": [
    "# Entrainement SOM\n",
    "from minisom import MiniSom\n",
    "som = MiniSom(x = 10, y = 10, input_len = 15, sigma = 1.0, learning_rate = 0.5)  # tableau de 10x10 avec longeur de X = 15\n",
    "\n",
    "som.random_weights_init(X)   # Initisaliser aléatoirement les poids\n",
    "som.train_random(X, num_iteration = 100)"
   ]
  },
  {
   "cell_type": "markdown",
   "id": "88a67928",
   "metadata": {},
   "source": [
    "## Visualisation des résultats"
   ]
  },
  {
   "cell_type": "code",
   "execution_count": null,
   "id": "14273c19",
   "metadata": {},
   "outputs": [],
   "source": [
    "# calcul du distance BMI\n",
    "    \n",
    "from pylab import bone, pcolor, colorbar, plot, show\n",
    "\n",
    "bone()  # Initialise un graph\n",
    "\n",
    "pcolor(som.distance_map().T)\n",
    "colorbar() # légende\n",
    "\n",
    "# Fraude = Blanc\n",
    "\n",
    "markers = [\"o\", \"s\"]\n",
    "colors = [\"r\", \"g\"]\n",
    "for i, x in enumerate(X):\n",
    "    w = som.winner(x)\n",
    "    plot(w[0] + 0.5,\n",
    "         w[1] + 0.5,\n",
    "         markers[y[i]],\n",
    "         markeredgecolor = colors[y[i]],\n",
    "         markerfacecolor = 'None',\n",
    "         markersize = 10,\n",
    "         markeredgewidth = 2)\n",
    "\n",
    "show()"
   ]
  },
  {
   "cell_type": "markdown",
   "id": "50dca99d",
   "metadata": {},
   "source": [
    "## Détecter la fraude "
   ]
  },
  {
   "cell_type": "code",
   "execution_count": null,
   "id": "3f437b9c",
   "metadata": {},
   "outputs": [],
   "source": [
    "mappings = som.win_map(X)\n",
    "frauds = np.concatenate((mappings[(0,3)], mappings[(1,3)]), axis = 0)  #axis = 0 par les lignes\n",
    "frauds = sc.inverse_transform(frauds)"
   ]
  }
 ],
 "metadata": {
  "kernelspec": {
   "display_name": "Python 3 (ipykernel)",
   "language": "python",
   "name": "python3"
  },
  "language_info": {
   "codemirror_mode": {
    "name": "ipython",
    "version": 3
   },
   "file_extension": ".py",
   "mimetype": "text/x-python",
   "name": "python",
   "nbconvert_exporter": "python",
   "pygments_lexer": "ipython3",
   "version": "3.9.13"
  }
 },
 "nbformat": 4,
 "nbformat_minor": 5
}
