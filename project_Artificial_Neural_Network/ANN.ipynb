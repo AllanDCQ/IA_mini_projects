{
 "cells": [
  {
   "cell_type": "markdown",
   "id": "d22bbcdd",
   "metadata": {},
   "source": [
    "# Artificial Neural Network"
   ]
  },
  {
   "cell_type": "code",
   "execution_count": null,
   "id": "3bfd1e64",
   "metadata": {},
   "outputs": [],
   "source": [
    "import numpy as np\n",
    "import matplotlib.pyplot as plt\n",
    "import pandas as pd"
   ]
  },
  {
   "cell_type": "markdown",
   "id": "cabf2a48",
   "metadata": {},
   "source": [
    "## Partie 0 : préparation des données"
   ]
  },
  {
   "cell_type": "code",
   "execution_count": null,
   "id": "83b644b8",
   "metadata": {},
   "outputs": [],
   "source": [
    "data_set = pd.read_csv(\"Churn_Modelling.csv\")\n",
    "x = data_set.iloc[:, 3:13].values  # toute les colonnes sauf la dernière\n",
    "y = data_set.iloc[:, -1].values\n",
    "\n",
    "# Label Encoding the \"Gender\" column\n",
    "from sklearn.preprocessing import LabelEncoder\n",
    "\n",
    "le = LabelEncoder()\n",
    "x[:, 2] = le.fit_transform(x[:, 2])\n",
    "\n",
    "# One Hot Encoding the \"Geography\" column\n",
    "from sklearn.compose import ColumnTransformer\n",
    "from sklearn.preprocessing import OneHotEncoder\n",
    "\n",
    "ct = ColumnTransformer(transformers=[('encoder', OneHotEncoder(), [1])], remainder='passthrough')\n",
    "x = np.array(ct.fit_transform(x))\n",
    "\n",
    "# Supression d'1 des 3 colonnes des pays\n",
    "x = x[:, 1:]\n",
    "\n",
    "# Séparation du jeu de données\n",
    "from sklearn.model_selection import train_test_split\n",
    "\n",
    "x_train, x_test, y_train, y_split = train_test_split(x, y, test_size=0.2)\n",
    "\n",
    "# Changement d'échelle\n",
    "# standardiser ou compression\n",
    "from sklearn.preprocessing import StandardScaler\n",
    "\n",
    "sc_x = StandardScaler()\n",
    "\n",
    "x_train = sc_x.fit_transform(x_train)\n",
    "x_test = sc_x.transform(x_test)"
   ]
  },
  {
   "cell_type": "markdown",
   "id": "4d4a1ef4",
   "metadata": {},
   "source": [
    "## Partie 1 : construire réseau de neuronne"
   ]
  },
  {
   "cell_type": "code",
   "execution_count": null,
   "id": "a9263eb6",
   "metadata": {},
   "outputs": [],
   "source": [
    "import tensorflow as tf\n",
    "import keras\n",
    "from keras.models import Sequential     # Initialise le réseau\n",
    "from keras.layers import Dense          # Couche du réseau de neuronnes\n",
    "from keras.layers import Dropout"
   ]
  },
  {
   "cell_type": "code",
   "execution_count": null,
   "id": "326def23",
   "metadata": {},
   "outputs": [],
   "source": [
    "# Initialisation\n",
    "model =  Sequential() "
   ]
  },
  {
   "cell_type": "code",
   "execution_count": null,
   "id": "142428c2",
   "metadata": {},
   "outputs": [],
   "source": [
    "# Ajouter la couche d'entrée + 1 couche cachée\n",
    "model.add(Dense(units=5, activation=\"relu\",\n",
    "                             kernel_initializer=\"uniform\", input_dim=11))\n",
    "\n",
    "# Ajouter une 2e couche cachée\n",
    "model.add(Dense(units=5, activation=\"relu\",\n",
    "                             kernel_initializer=\"uniform\"))\n",
    "\n",
    "# Ajouter la couche de sortie\n",
    "model.add(Dense(units=1, activation=\"sigmoid\",\n",
    "                             kernel_initializer=\"uniform\"))   #activation= softmax si plusieurs units en sortie\n",
    "\n",
    "# Complier les neurones\n",
    "model.compile(loss= tf.keras.losses.BinaryCrossentropy(), \n",
    "              optimizer= tf.keras.optimizers.Adam(learning_rate=1e-3), \n",
    "              metrics= [tf.keras.metrics.Accuracy()])\n",
    "\n",
    "# Entrainer le réseau de neuronnes\n",
    "model.fit(x_train, y_train, batch_size=10, epochs=20) "
   ]
  },
  {
   "cell_type": "code",
   "execution_count": null,
   "id": "cab1b022",
   "metadata": {},
   "outputs": [],
   "source": [
    "# Prédictions\n",
    "\n",
    "y_pred = model.predict(x_test)\n",
    "y_pred = (y_pred > 0.5)      # pour tumeur inférieur\n",
    "\n",
    "from sklearn.metrics import confusion_matrix\n",
    "cm = confusion_matrix(y_split, y_pred)"
   ]
  },
  {
   "cell_type": "markdown",
   "id": "4ec1c8ab",
   "metadata": {},
   "source": [
    "## Partie 2 : Exercice "
   ]
  },
  {
   "cell_type": "raw",
   "id": "85499c2d",
   "metadata": {},
   "source": [
    "\n",
    "    Pays : France\n",
    "    Score de crédit : 600\n",
    "    Genre : Masculin\n",
    "    Âge : 40 ans\n",
    "    Durée depuis entrée dans la banque : 3 ans\n",
    "    Balance : 60000 €\n",
    "    Nombre de produits : 2\n",
    "    Carte de crédit ? Oui\n",
    "    Membre actif ? : Oui\n",
    "    Salaire estimé : 50000 €\n"
   ]
  },
  {
   "cell_type": "code",
   "execution_count": null,
   "id": "a346806c",
   "metadata": {},
   "outputs": [],
   "source": [
    "new_prediction = model.predict(sc_x.transform(np.array([[0.0,0,600,0,40,3,60000,2, 1, 1, 50000]])))\n",
    "new_prediction = (new_prediction > 0.5) "
   ]
  },
  {
   "cell_type": "code",
   "execution_count": null,
   "id": "3d90d5b4",
   "metadata": {},
   "outputs": [],
   "source": [
    "# Evaluer l'ANN\n",
    "from keras.wrappers.scikit_learn import KerasClassifier\n",
    "from sklearn.model_selection import cross_val_score\n",
    "\n",
    "from sklearn.model_selection import GridSearchCV"
   ]
  },
  {
   "cell_type": "code",
   "execution_count": null,
   "id": "79b76770",
   "metadata": {},
   "outputs": [],
   "source": [
    "def build_model(optimizer) :\n",
    "    model =  Sequential()\n",
    "    model.add(Dense(units=8, activation=\"relu\",\n",
    "                                 kernel_initializer=\"uniform\", input_dim=11))\n",
    "    model.add(Dense(units=8, activation=\"relu\",\n",
    "                                 kernel_initializer=\"uniform\"))\n",
    "    #model.add(Dropout(rate = 0.1)\n",
    "    model.add(Dense(units=8, activation=\"relu\",\n",
    "                                 kernel_initializer=\"uniform\"))\n",
    "    model.add(Dense(units=1, activation=\"sigmoid\",\n",
    "                                 kernel_initializer=\"uniform\"))   #activation= softmax si plusieurs units en sortie\n",
    "    model.compile(optimizer= optimizer, \n",
    "                  loss= \"binary_crossentropy\", \n",
    "                  metrics=[\"accuracy\"])\n",
    "    return model"
   ]
  },
  {
   "cell_type": "code",
   "execution_count": null,
   "id": "bbc73cb5",
   "metadata": {},
   "outputs": [],
   "source": [
    "model = KerasClassifier(build_fn=build_model, batch_size=10, epochs=20)\n",
    "precisions = cross_val_score(estimator = model, X = x_test, y = y_split, cv = 10, n_jobs = 4)"
   ]
  },
  {
   "cell_type": "code",
   "execution_count": null,
   "id": "4bf9813b",
   "metadata": {},
   "outputs": [],
   "source": [
    "moyenne = precisions.mean()\n",
    "ecart_type = precisions.std()  # grande variance ? dropout !"
   ]
  },
  {
   "cell_type": "markdown",
   "id": "abfafe24",
   "metadata": {},
   "source": [
    "## Partie 3 : Optimisation"
   ]
  },
  {
   "cell_type": "code",
   "execution_count": null,
   "id": "e2b9fb2e",
   "metadata": {},
   "outputs": [],
   "source": [
    "model = KerasClassifier(build_fn=build_model)\n",
    "parameters = {\"batch_size\" : [24,32],\n",
    "              \"epochs\" : [100,500],\n",
    "              \"optimizer\" : [tf.keras.optimizers.SGD(learning_rate=1e-2),\n",
    "                             tf.keras.optimizers.Adam(learning_rate=1e-3)] }"
   ]
  },
  {
   "cell_type": "code",
   "execution_count": null,
   "id": "35f20820",
   "metadata": {},
   "outputs": [],
   "source": [
    "grid_search = GridSearchCV(estimator = model, param_grid = parameters, scoring=\"accuracy\", cv=10,  n_jobs = 8)\n",
    "grid_search = grid_search.fit(x_train, y_train)"
   ]
  },
  {
   "cell_type": "code",
   "execution_count": null,
   "id": "a01979b5",
   "metadata": {},
   "outputs": [],
   "source": [
    "best_score = grid_search.best_score_\n",
    "best_precisions = grid_search.best_params_"
   ]
  },
  {
   "cell_type": "code",
   "execution_count": null,
   "id": "14544d82",
   "metadata": {},
   "outputs": [],
   "source": [
    "# 24, 500, SGD, <<<<0.86137"
   ]
  },
  {
   "cell_type": "code",
   "execution_count": null,
   "id": "33727418",
   "metadata": {},
   "outputs": [],
   "source": [
    "    model =  Sequential()\n",
    "    model.add(Dense(units=8, activation=\"relu\",\n",
    "                                 kernel_initializer=\"uniform\", input_dim=11))\n",
    "    model.add(Dense(units=8, activation=\"relu\",\n",
    "                                 kernel_initializer=\"uniform\"))\n",
    "    #model.add(Dropout(rate = 0.1)\n",
    "    model.add(Dense(units=8, activation=\"relu\",\n",
    "                                 kernel_initializer=\"uniform\"))\n",
    "    model.add(Dense(units=1, activation=\"sigmoid\",\n",
    "                                 kernel_initializer=\"uniform\"))   #activation= softmax si plusieurs units en sortie\n",
    "    model.compile(optimizer= tf.keras.optimizers.SGD(learning_rate=1e-2), \n",
    "                  loss= \"binary_crossentropy\", \n",
    "                  metrics=[\"accuracy\"])"
   ]
  },
  {
   "cell_type": "code",
   "execution_count": null,
   "id": "5e35f8ea",
   "metadata": {},
   "outputs": [],
   "source": [
    "model_opti().fit(x_train, y_train, batch_size=24, epochs=500) "
   ]
  },
  {
   "cell_type": "code",
   "execution_count": null,
   "id": "51014254",
   "metadata": {},
   "outputs": [],
   "source": [
    "new_prediction2 = model_opti().predict(sc_x.transform(np.array([[0.0,0,600,0,40,3,60000,2, 1, 1, 50000]])))\n",
    "new_prediction2 = (new_prediction2 > 0.5) \n",
    "\n",
    "y_pred2 = model_opti().predict(x_test)\n",
    "y_pred2 = (y_pred2 > 0.5)      # pour tumeur inférieur"
   ]
  },
  {
   "cell_type": "code",
   "execution_count": null,
   "id": "5c92dec3",
   "metadata": {},
   "outputs": [],
   "source": [
    "from sklearn.metrics import confusion_matrix\n",
    "cm = confusion_matrix(y_split, y_pred2)"
   ]
  }
 ],
 "metadata": {
  "kernelspec": {
   "display_name": "Python 3 (ipykernel)",
   "language": "python",
   "name": "python3"
  },
  "language_info": {
   "codemirror_mode": {
    "name": "ipython",
    "version": 3
   },
   "file_extension": ".py",
   "mimetype": "text/x-python",
   "name": "python",
   "nbconvert_exporter": "python",
   "pygments_lexer": "ipython3",
   "version": "3.9.13"
  }
 },
 "nbformat": 4,
 "nbformat_minor": 5
}
